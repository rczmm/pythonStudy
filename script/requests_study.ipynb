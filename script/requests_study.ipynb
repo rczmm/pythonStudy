{
 "cells": [
  {
   "metadata": {},
   "cell_type": "markdown",
   "source": [
    "安装 requests 模块\n",
    "pip install requests"
   ],
   "id": "f82985906a841d04"
  },
  {
   "metadata": {},
   "cell_type": "code",
   "outputs": [],
   "execution_count": null,
   "source": [
    "# 导入模块\n",
    "import requests"
   ],
   "id": "2c0810ed625819e1"
  },
  {
   "metadata": {},
   "cell_type": "code",
   "outputs": [],
   "execution_count": null,
   "source": [
    "# 发送 GET 请求\n",
    "response = requests.get('https://www.example.com')\n",
    "\n",
    "# 解码为utf-8 解码后为字符串\n",
    "response = response.text.decode('utf-8')\n",
    "\n",
    "# 编码为utf-8\n",
    "response = response.encode('utf-8')\n",
    "\n",
    "# 打印响应状态码\n",
    "print(response.status_code)\n",
    "\n",
    "# 打印响应文本\n",
    "print(response.text)"
   ],
   "id": "310eb106cd67803e"
  },
  {
   "metadata": {},
   "cell_type": "code",
   "outputs": [],
   "execution_count": null,
   "source": [
    "# 设置请求头\n",
    "headers = {'User-Agent': 'Mozilla/5.0'}\n",
    "response = requests.get('https://www.example.com', headers=headers)"
   ],
   "id": "8bc2602580aa6845"
  },
  {
   "metadata": {},
   "cell_type": "code",
   "outputs": [],
   "execution_count": null,
   "source": [
    "# 传递请求参数\n",
    "params = {'q': 'python'}\n",
    "response = requests.get('https://www.example.com/search', params=params)"
   ],
   "id": "aa64eb5dcf6f6c0f"
  },
  {
   "metadata": {},
   "cell_type": "code",
   "outputs": [],
   "execution_count": null,
   "source": [
    "# 发送 POST 请求\n",
    "data = {'key': 'value'}\n",
    "response = requests.post('https://www.example.com/post', data=data)"
   ],
   "id": "2faa62e6fa6f9cd0"
  },
  {
   "metadata": {},
   "cell_type": "code",
   "outputs": [],
   "execution_count": null,
   "source": [
    "# 下载文件 wb表示二进制写入\n",
    "response = requests.get('https://www.example.com/image.jpg')\n",
    "with open('image.jpg', 'wb') as f:\n",
    "    f.write(response.content)"
   ],
   "id": "d4c49d18cd42d15a"
  }
 ],
 "metadata": {
  "kernelspec": {
   "display_name": "Python 3",
   "language": "python",
   "name": "python3"
  },
  "language_info": {
   "codemirror_mode": {
    "name": "ipython",
    "version": 2
   },
   "file_extension": ".py",
   "mimetype": "text/x-python",
   "name": "python",
   "nbconvert_exporter": "python",
   "pygments_lexer": "ipython2",
   "version": "2.7.6"
  }
 },
 "nbformat": 4,
 "nbformat_minor": 5
}
